{
 "cells": [
  {
   "cell_type": "code",
   "execution_count": 2,
   "metadata": {},
   "outputs": [],
   "source": [
    "import statsmodels.api as sm\n",
    "import numpy as np\n",
    "from statsmodels.stats.contingency_tables import StratifiedTable\n",
    "\n",
    "import pandas"
   ]
  },
  {
   "cell_type": "code",
   "execution_count": 3,
   "metadata": {},
   "outputs": [
    {
     "data": {
      "text/html": [
       "<div>\n",
       "<style scoped>\n",
       "    .dataframe tbody tr th:only-of-type {\n",
       "        vertical-align: middle;\n",
       "    }\n",
       "\n",
       "    .dataframe tbody tr th {\n",
       "        vertical-align: top;\n",
       "    }\n",
       "\n",
       "    .dataframe thead th {\n",
       "        text-align: right;\n",
       "    }\n",
       "</style>\n",
       "<table border=\"1\" class=\"dataframe\">\n",
       "  <thead>\n",
       "    <tr style=\"text-align: right;\">\n",
       "      <th></th>\n",
       "      <th>set</th>\n",
       "      <th>drug</th>\n",
       "      <th>method</th>\n",
       "      <th>dataset</th>\n",
       "      <th>quality</th>\n",
       "      <th>sensitivity</th>\n",
       "      <th>sensitivity_sem</th>\n",
       "      <th>specificity</th>\n",
       "      <th>specificity_sem</th>\n",
       "      <th>PPV</th>\n",
       "      <th>PPV_sem</th>\n",
       "      <th>RR</th>\n",
       "      <th>SR</th>\n",
       "      <th>UR</th>\n",
       "      <th>RS</th>\n",
       "      <th>SS</th>\n",
       "      <th>US</th>\n",
       "      <th>Total</th>\n",
       "    </tr>\n",
       "  </thead>\n",
       "  <tbody>\n",
       "    <tr>\n",
       "      <th>0</th>\n",
       "      <td>basic</td>\n",
       "      <td>INH</td>\n",
       "      <td>UKMYC</td>\n",
       "      <td>bootstrapped50</td>\n",
       "      <td>ALL</td>\n",
       "      <td>91.240875</td>\n",
       "      <td>0.480167</td>\n",
       "      <td>95.395150</td>\n",
       "      <td>0.367757</td>\n",
       "      <td>95.206597</td>\n",
       "      <td>0.370676</td>\n",
       "      <td>NaN</td>\n",
       "      <td>NaN</td>\n",
       "      <td>NaN</td>\n",
       "      <td>NaN</td>\n",
       "      <td>NaN</td>\n",
       "      <td>NaN</td>\n",
       "      <td>NaN</td>\n",
       "    </tr>\n",
       "    <tr>\n",
       "      <th>1</th>\n",
       "      <td>basic</td>\n",
       "      <td>INH</td>\n",
       "      <td>UKMYC</td>\n",
       "      <td>bootstrapped50</td>\n",
       "      <td>HIGH</td>\n",
       "      <td>93.746796</td>\n",
       "      <td>0.336085</td>\n",
       "      <td>96.624866</td>\n",
       "      <td>0.352979</td>\n",
       "      <td>96.618858</td>\n",
       "      <td>0.342746</td>\n",
       "      <td>NaN</td>\n",
       "      <td>NaN</td>\n",
       "      <td>NaN</td>\n",
       "      <td>NaN</td>\n",
       "      <td>NaN</td>\n",
       "      <td>NaN</td>\n",
       "      <td>NaN</td>\n",
       "    </tr>\n",
       "    <tr>\n",
       "      <th>2</th>\n",
       "      <td>basic</td>\n",
       "      <td>INH</td>\n",
       "      <td>UKMYC</td>\n",
       "      <td>entire</td>\n",
       "      <td>ALL</td>\n",
       "      <td>91.200000</td>\n",
       "      <td>0.000000</td>\n",
       "      <td>95.600000</td>\n",
       "      <td>0.000000</td>\n",
       "      <td>95.397490</td>\n",
       "      <td>0.000000</td>\n",
       "      <td>456.0</td>\n",
       "      <td>33.0</td>\n",
       "      <td>11.0</td>\n",
       "      <td>22.0</td>\n",
       "      <td>448.0</td>\n",
       "      <td>30.0</td>\n",
       "      <td>1000.0</td>\n",
       "    </tr>\n",
       "  </tbody>\n",
       "</table>\n",
       "</div>"
      ],
      "text/plain": [
       "     set drug method         dataset quality  sensitivity  sensitivity_sem  \\\n",
       "0  basic  INH  UKMYC  bootstrapped50     ALL    91.240875         0.480167   \n",
       "1  basic  INH  UKMYC  bootstrapped50    HIGH    93.746796         0.336085   \n",
       "2  basic  INH  UKMYC          entire     ALL    91.200000         0.000000   \n",
       "\n",
       "   specificity  specificity_sem        PPV   PPV_sem     RR    SR    UR    RS  \\\n",
       "0    95.395150         0.367757  95.206597  0.370676    NaN   NaN   NaN   NaN   \n",
       "1    96.624866         0.352979  96.618858  0.342746    NaN   NaN   NaN   NaN   \n",
       "2    95.600000         0.000000  95.397490  0.000000  456.0  33.0  11.0  22.0   \n",
       "\n",
       "      SS    US   Total  \n",
       "0    NaN   NaN     NaN  \n",
       "1    NaN   NaN     NaN  \n",
       "2  448.0  30.0  1000.0  "
      ]
     },
     "execution_count": 3,
     "metadata": {},
     "output_type": "execute_result"
    }
   ],
   "source": [
    "df = pandas.read_csv('dat/RESULTS.csv')\n",
    "df[:3]"
   ]
  },
  {
   "cell_type": "code",
   "execution_count": 24,
   "metadata": {},
   "outputs": [
    {
     "data": {
      "text/html": [
       "<div>\n",
       "<style scoped>\n",
       "    .dataframe tbody tr th:only-of-type {\n",
       "        vertical-align: middle;\n",
       "    }\n",
       "\n",
       "    .dataframe tbody tr th {\n",
       "        vertical-align: top;\n",
       "    }\n",
       "\n",
       "    .dataframe thead th {\n",
       "        text-align: right;\n",
       "    }\n",
       "</style>\n",
       "<table border=\"1\" class=\"dataframe\">\n",
       "  <thead>\n",
       "    <tr style=\"text-align: right;\">\n",
       "      <th></th>\n",
       "      <th>set</th>\n",
       "      <th>drug</th>\n",
       "      <th>method</th>\n",
       "      <th>dataset</th>\n",
       "      <th>quality</th>\n",
       "      <th>sensitivity</th>\n",
       "      <th>sensitivity_sem</th>\n",
       "      <th>specificity</th>\n",
       "      <th>specificity_sem</th>\n",
       "      <th>PPV</th>\n",
       "      <th>PPV_sem</th>\n",
       "      <th>RR</th>\n",
       "      <th>SR</th>\n",
       "      <th>UR</th>\n",
       "      <th>RS</th>\n",
       "      <th>SS</th>\n",
       "      <th>US</th>\n",
       "      <th>Total</th>\n",
       "    </tr>\n",
       "  </thead>\n",
       "  <tbody>\n",
       "    <tr>\n",
       "      <th>38</th>\n",
       "      <td>basic</td>\n",
       "      <td>AMI</td>\n",
       "      <td>UKMYC</td>\n",
       "      <td>entire</td>\n",
       "      <td>ALL</td>\n",
       "      <td>71.180556</td>\n",
       "      <td>0.0</td>\n",
       "      <td>99.578652</td>\n",
       "      <td>0.0</td>\n",
       "      <td>98.557692</td>\n",
       "      <td>0.0</td>\n",
       "      <td>205.0</td>\n",
       "      <td>76.0</td>\n",
       "      <td>7.0</td>\n",
       "      <td>3.0</td>\n",
       "      <td>656.0</td>\n",
       "      <td>53.0</td>\n",
       "      <td>1000.0</td>\n",
       "    </tr>\n",
       "    <tr>\n",
       "      <th>39</th>\n",
       "      <td>basic</td>\n",
       "      <td>AMI</td>\n",
       "      <td>UKMYC</td>\n",
       "      <td>entire</td>\n",
       "      <td>HIGH</td>\n",
       "      <td>80.816327</td>\n",
       "      <td>0.0</td>\n",
       "      <td>99.482759</td>\n",
       "      <td>0.0</td>\n",
       "      <td>98.507463</td>\n",
       "      <td>0.0</td>\n",
       "      <td>198.0</td>\n",
       "      <td>43.0</td>\n",
       "      <td>4.0</td>\n",
       "      <td>3.0</td>\n",
       "      <td>540.0</td>\n",
       "      <td>37.0</td>\n",
       "      <td>825.0</td>\n",
       "    </tr>\n",
       "  </tbody>\n",
       "</table>\n",
       "</div>"
      ],
      "text/plain": [
       "      set drug method dataset quality  sensitivity  sensitivity_sem  \\\n",
       "38  basic  AMI  UKMYC  entire     ALL    71.180556              0.0   \n",
       "39  basic  AMI  UKMYC  entire    HIGH    80.816327              0.0   \n",
       "\n",
       "    specificity  specificity_sem        PPV  PPV_sem     RR    SR   UR   RS  \\\n",
       "38    99.578652              0.0  98.557692      0.0  205.0  76.0  7.0  3.0   \n",
       "39    99.482759              0.0  98.507463      0.0  198.0  43.0  4.0  3.0   \n",
       "\n",
       "       SS    US   Total  \n",
       "38  656.0  53.0  1000.0  \n",
       "39  540.0  37.0   825.0  "
      ]
     },
     "execution_count": 24,
     "metadata": {},
     "output_type": "execute_result"
    }
   ],
   "source": [
    "df[(df.drug=='AMI') & (df.dataset=='entire') & (df.set=='basic')]"
   ]
  },
  {
   "cell_type": "code",
   "execution_count": 13,
   "metadata": {},
   "outputs": [
    {
     "name": "stderr",
     "output_type": "stream",
     "text": [
      "/var/folders/84/9nb2gsqj4hlcxztvwf19wg680000gq/T/ipykernel_43157/2796810178.py:5: FutureWarning: Calling int on a single element Series is deprecated and will raise a TypeError in the future. Use int(ser.iloc[0]) instead\n",
      "  tab = np.array([[int(row.RR), int(row.RS)],],) # [int(row.SR+row.UR), int(row.SS+row.US)]])\n"
     ]
    },
    {
     "data": {
      "text/plain": [
       "[array([[205,   3]]), array([[198,   3]])]"
      ]
     },
     "execution_count": 13,
     "metadata": {},
     "output_type": "execute_result"
    }
   ],
   "source": [
    "drug='AMI'\n",
    "tables = []\n",
    "for quality in ['ALL', 'HIGH']:\n",
    "    row = df[(df.set=='basic') & (df.drug==drug) & (df.dataset=='entire') & (df.quality==quality)]\n",
    "    tab = np.array([[int(row.RR), int(row.RS)],],) # [int(row.SR+row.UR), int(row.SS+row.US)]])\n",
    "    # tab = np.array([ [int(row.SS+row.US), int(row.SR+row.UR), ], [int(row.RS), int(row.RR),], ])\n",
    "    tables.append(tab)\n",
    "tables"
   ]
  },
  {
   "cell_type": "code",
   "execution_count": 15,
   "metadata": {},
   "outputs": [
    {
     "ename": "ValueError",
     "evalue": "If `tables` is a list, all of its elements should be 2x2",
     "output_type": "error",
     "traceback": [
      "\u001b[0;31m---------------------------------------------------------------------------\u001b[0m",
      "\u001b[0;31mValueError\u001b[0m                                Traceback (most recent call last)",
      "Cell \u001b[0;32mIn[15], line 1\u001b[0m\n\u001b[0;32m----> 1\u001b[0m st \u001b[38;5;241m=\u001b[39m \u001b[43msm\u001b[49m\u001b[38;5;241;43m.\u001b[39;49m\u001b[43mstats\u001b[49m\u001b[38;5;241;43m.\u001b[39;49m\u001b[43mStratifiedTable\u001b[49m\u001b[43m(\u001b[49m\u001b[43m[\u001b[49m\u001b[43mtables\u001b[49m\u001b[43m]\u001b[49m\u001b[43m)\u001b[49m\n\u001b[1;32m      3\u001b[0m \u001b[38;5;28mprint\u001b[39m(st\u001b[38;5;241m.\u001b[39msummary())\n",
      "File \u001b[0;32m~/Library/Python/3.12/lib/python/site-packages/statsmodels/stats/contingency_tables.py:954\u001b[0m, in \u001b[0;36mStratifiedTable.__init__\u001b[0;34m(self, tables, shift_zeros)\u001b[0m\n\u001b[1;32m    952\u001b[0m \u001b[38;5;28;01mif\u001b[39;00m \u001b[38;5;28many\u001b[39m([np\u001b[38;5;241m.\u001b[39masarray(x)\u001b[38;5;241m.\u001b[39mshape \u001b[38;5;241m!=\u001b[39m (\u001b[38;5;241m2\u001b[39m, \u001b[38;5;241m2\u001b[39m) \u001b[38;5;28;01mfor\u001b[39;00m x \u001b[38;5;129;01min\u001b[39;00m tables]):\n\u001b[1;32m    953\u001b[0m     m \u001b[38;5;241m=\u001b[39m \u001b[38;5;124m\"\u001b[39m\u001b[38;5;124mIf `tables` is a list, all of its elements should be 2x2\u001b[39m\u001b[38;5;124m\"\u001b[39m\n\u001b[0;32m--> 954\u001b[0m     \u001b[38;5;28;01mraise\u001b[39;00m \u001b[38;5;167;01mValueError\u001b[39;00m(m)\n\u001b[1;32m    956\u001b[0m \u001b[38;5;66;03m# Create a data cube\u001b[39;00m\n\u001b[1;32m    957\u001b[0m table \u001b[38;5;241m=\u001b[39m np\u001b[38;5;241m.\u001b[39mdstack(tables)\u001b[38;5;241m.\u001b[39mastype(np\u001b[38;5;241m.\u001b[39mfloat64)\n",
      "\u001b[0;31mValueError\u001b[0m: If `tables` is a list, all of its elements should be 2x2"
     ]
    }
   ],
   "source": [
    "st = sm.stats.StratifiedTable([tables])\n",
    "\n",
    "print(st.summary())"
   ]
  },
  {
   "cell_type": "code",
   "execution_count": 12,
   "metadata": {},
   "outputs": [
    {
     "data": {
      "text/html": [
       "<table class=\"simpletable\">\n",
       "<tr>\n",
       "          <td></td>          <th>Estimate</th>    <th>LCB</th>    <th>UCB</th> \n",
       "</tr>\n",
       "<tr>\n",
       "  <th>Pooled odds</th>           <td>0.811</td>   <td>0.459</td> <td>1.434</td>\n",
       "</tr>\n",
       "<tr>\n",
       "  <th>Pooled log odds</th>      <td>-0.209</td>  <td>-0.779</td> <td>0.361</td>\n",
       "</tr>\n",
       "<tr>\n",
       "  <th>Pooled risk ratio</th>     <td>0.989</td>        <td></td>      <td></td>\n",
       "</tr>\n",
       "<tr>\n",
       "  <th></th>                           <td></td>        <td></td>      <td></td>\n",
       "</tr>\n",
       "<tr>\n",
       "          <td></td>         <th>Statistic</th> <th>P-value</th> <th></th>\n",
       "</tr>\n",
       "<tr>\n",
       "  <th>Test of OR=1</th>         <td>0.518</td>   <td>0.472</td> <td></td>\n",
       "</tr>\n",
       "<tr>\n",
       "  <th>Test constant OR</th>     <td>0.000</td>     <td>nan</td> <td></td>\n",
       "</tr>\n",
       "<tr>\n",
       "          <td></td>          <th></th>   <th></th> <th></th>\n",
       "</tr>\n",
       "<tr>\n",
       "  <th>Number of tables</th>   <td>1</td> <td></td> <td></td>\n",
       "</tr>\n",
       "<tr>\n",
       "  <th>Min n</th>            <td>916</td> <td></td> <td></td>\n",
       "</tr>\n",
       "<tr>\n",
       "  <th>Max n</th>            <td>916</td> <td></td> <td></td>\n",
       "</tr>\n",
       "<tr>\n",
       "  <th>Avg n</th>            <td>916</td> <td></td> <td></td>\n",
       "</tr>\n",
       "<tr>\n",
       "  <th>Total n</th>          <td>916</td> <td></td> <td></td>\n",
       "</tr>\n",
       "</table>"
      ],
      "text/latex": [
       "\\begin{center}\n",
       "\\begin{tabular}{lccc}\n",
       "\n",
       "                           & \\textbf{Estimate}  &   \\textbf{LCB}   & \\textbf{UCB}  \\\\\n",
       "\\midrule\n",
       "\\bottomrule\n",
       "\\end{tabular}\n",
       "\\begin{tabular}{lrrr}\n",
       "\\textbf{Pooled odds}       &              0.811 &            0.459 &        1.434  \\\\\n",
       "\\textbf{Pooled log odds}   &             -0.209 &           -0.779 &        0.361  \\\\\n",
       "\\textbf{Pooled risk ratio} &              0.989 &                  &               \\\\\n",
       "\\textbf{}                  &                    &                  &               \\\\\n",
       "\\bottomrule\n",
       "\\end{tabular}\n",
       "\\begin{tabular}{lccc}\n",
       "                          & \\textbf{Statistic} & \\textbf{P-value} & \\textbf{}  \\\\\n",
       "\\midrule\n",
       "\\bottomrule\n",
       "\\end{tabular}\n",
       "\\begin{tabular}{lrrr}\n",
       "\\textbf{Test of OR=1}     &              0.518 &            0.472 &            \\\\\n",
       "\\textbf{Test constant OR} &              0.000 &              nan &            \\\\\n",
       "\\bottomrule\n",
       "\\end{tabular}\n",
       "\\begin{tabular}{lccc}\n",
       "                          & \\textbf{} & \\textbf{} & \\textbf{}  \\\\\n",
       "\\midrule\n",
       "\\bottomrule\n",
       "\\end{tabular}\n",
       "\\begin{tabular}{lrrr}\n",
       "\\textbf{Number of tables} &         1 &           &            \\\\\n",
       "\\textbf{Min n}            &       916 &           &            \\\\\n",
       "\\textbf{Max n}            &       916 &           &            \\\\\n",
       "\\textbf{Avg n}            &       916 &           &            \\\\\n",
       "\\bottomrule\n",
       "\\end{tabular}\n",
       "\\begin{tabular}{lrrrr}\n",
       "\\textbf{Total n}          &       916 &           &            \\\\\n",
       "\\bottomrule\n",
       "\\end{tabular}\n",
       "\\end{center}"
      ],
      "text/plain": [
       "<class 'statsmodels.iolib.table.SimpleTable'>"
      ]
     },
     "execution_count": 12,
     "metadata": {},
     "output_type": "execute_result"
    }
   ],
   "source": [
    "st.summary()"
   ]
  },
  {
   "cell_type": "code",
   "execution_count": 9,
   "metadata": {},
   "outputs": [
    {
     "data": {
      "text/plain": [
       "[['', 'Estimate', 'LCB', 'UCB'],\n",
       " ['Pooled odds', '0.811', '0.459', '1.434'],\n",
       " ['Pooled log odds', '-0.209', '-0.779', '0.361'],\n",
       " ['Pooled risk ratio', '0.989', '', ''],\n",
       " ['', '', '', ''],\n",
       " ['', 'Statistic', 'P-value', ''],\n",
       " ['Test of OR=1', '0.518', '0.472', ''],\n",
       " ['Test constant OR', '0.000', 'nan', ''],\n",
       " ['', '', '', ''],\n",
       " ['Number of tables', '1', '', ''],\n",
       " ['Min n', '916', '', ''],\n",
       " ['Max n', '916', '', ''],\n",
       " ['Avg n', '916', '', ''],\n",
       " ['Total n', '916', '', '', '']]"
      ]
     },
     "execution_count": 9,
     "metadata": {},
     "output_type": "execute_result"
    }
   ],
   "source": [
    "drug, st.summary()\n",
    "a=st.summary()\n",
    "a.data"
   ]
  },
  {
   "cell_type": "code",
   "execution_count": 25,
   "metadata": {},
   "outputs": [
    {
     "name": "stdout",
     "output_type": "stream",
     "text": [
      "AMI 0.010\n",
      "CFZ 0.566\n",
      "DLM 0.116\n",
      "EMB 0.386\n",
      "ETH 0.220\n",
      "INH 0.111\n",
      "KAN 0.028\n",
      "LEV 0.298\n",
      "LZD 0.067\n",
      "MXF 0.312\n",
      "RIF 0.472\n"
     ]
    },
    {
     "name": "stderr",
     "output_type": "stream",
     "text": [
      "/var/folders/84/9nb2gsqj4hlcxztvwf19wg680000gq/T/ipykernel_43157/704452060.py:11: FutureWarning: Calling int on a single element Series is deprecated and will raise a TypeError in the future. Use int(ser.iloc[0]) instead\n",
      "  tab.append([int(row.RR), int(row.SR+row.UR), ],)\n"
     ]
    },
    {
     "data": {
      "text/plain": [
       "[[[205, 83], [198, 47]],\n",
       " [[20, 268], [4, 74]],\n",
       " [[17, 123], [13, 50]],\n",
       " [[245, 43], [200, 28]],\n",
       " [[203, 85], [191, 63]],\n",
       " [[456, 44], [432, 28]],\n",
       " [[213, 76], [212, 48]],\n",
       " [[251, 72], [212, 49]],\n",
       " [[26, 91], [22, 41]],\n",
       " [[234, 54], [198, 36]],\n",
       " [[447, 29], [418, 22]]]"
      ]
     },
     "execution_count": 25,
     "metadata": {},
     "output_type": "execute_result"
    }
   ],
   "source": [
    "tables = []\n",
    "\n",
    "for drug in ['AMI', 'CFZ', 'DLM', 'EMB', 'ETH', 'INH', 'KAN', 'LEV', 'LZD', 'MXF', 'RIF']:\n",
    "\n",
    "# for drug in ['AMI', 'CFZ', 'DLM', 'EMB', 'ETH', 'INH', 'KAN', 'LEV', 'LZD', 'MXF', 'RIF']:\n",
    "# ['RIF', 'INH', 'EMB', 'KAN', 'AMI', 'CFZ', 'DLM', 'ETH', 'LEV', 'MXF', 'LZD']:\n",
    "    tab = []\n",
    "    for quality in ['ALL', 'HIGH']:\n",
    "        row = df[(df.set=='basic') & (df.drug==drug) & (df.dataset=='entire') & (df.quality==quality)]\n",
    "        # tab = np.array([[int(row.RR), int(row.RS)], [int(row.SR+row.UR), int(row.SS+row.US)]])\n",
    "        tab.append([int(row.RR), int(row.SR+row.UR), ],)\n",
    "    st = sm.stats.StratifiedTable([tab])\n",
    "    a=st.summary().data\n",
    "    for i in a:\n",
    "        if i[0]=='Test of OR=1':\n",
    "            print(drug, i[2])\n",
    "    # print(drug,tab, st.summary())\n",
    "    tables.append(tab)\n",
    "tables"
   ]
  },
  {
   "cell_type": "code",
   "execution_count": 21,
   "metadata": {},
   "outputs": [
    {
     "name": "stdout",
     "output_type": "stream",
     "text": [
      "                   Estimate   LCB    UCB  \n",
      "------------------------------------------\n",
      "Pooled odds           0.586   0.390  0.881\n",
      "Pooled log odds      -0.534  -0.942 -0.126\n",
      "Pooled risk ratio     0.881               \n",
      "                                          \n",
      "                 Statistic P-value \n",
      "-----------------------------------\n",
      "Test of OR=1         6.653   0.010 \n",
      "Test constant OR     0.000     nan \n",
      "                      \n",
      "----------------------\n",
      "Number of tables   1  \n",
      "Min n            533  \n",
      "Max n            533  \n",
      "Avg n            533  \n",
      "Total n          533  \n",
      "----------------------\n"
     ]
    }
   ],
   "source": [
    "print(st.summary())"
   ]
  },
  {
   "cell_type": "code",
   "execution_count": 5,
   "metadata": {},
   "outputs": [
    {
     "data": {
      "text/plain": [
       "[[[502, 22], [425, 15]],\n",
       " [[478, 22], [430, 16]],\n",
       " [[607, 105], [444, 95]],\n",
       " [[704, 7], [613, 7]],\n",
       " [[709, 3], [577, 3]],\n",
       " [[698, 14], [586, 12]],\n",
       " [[859, 1], [686, 0]],\n",
       " [[623, 89], [528, 81]],\n",
       " [[656, 21], [513, 16]],\n",
       " [[674, 38], [468, 30]],\n",
       " [[882, 1], [656, 0]]]"
      ]
     },
     "execution_count": 5,
     "metadata": {},
     "output_type": "execute_result"
    }
   ],
   "source": [
    "tables"
   ]
  },
  {
   "cell_type": "code",
   "execution_count": 6,
   "metadata": {},
   "outputs": [
    {
     "data": {
      "text/plain": [
       "[[502, 22], [425, 15]]"
      ]
     },
     "execution_count": 6,
     "metadata": {},
     "output_type": "execute_result"
    }
   ],
   "source": [
    "tables[0]"
   ]
  },
  {
   "cell_type": "code",
   "execution_count": null,
   "metadata": {},
   "outputs": [
    {
     "name": "stdout",
     "output_type": "stream",
     "text": [
      "                   Estimate   LCB     UCB  \n",
      "-------------------------------------------\n",
      "Pooled odds         289.235 193.142 433.138\n",
      "Pooled log odds       5.667   5.263   6.071\n",
      "Pooled risk ratio    22.538                \n",
      "                                           \n",
      "                 Statistic P-value \n",
      "-----------------------------------\n",
      "Test of OR=1      1491.873   0.000 \n",
      "Test constant OR     2.133   0.144 \n",
      "                       \n",
      "-----------------------\n",
      "Number of tables    2  \n",
      "Min n             906  \n",
      "Max n            1000  \n",
      "Avg n             953  \n",
      "Total n          1906  \n",
      "-----------------------\n"
     ]
    }
   ],
   "source": []
  },
  {
   "cell_type": "markdown",
   "metadata": {},
   "source": []
  },
  {
   "cell_type": "code",
   "execution_count": 127,
   "metadata": {},
   "outputs": [
    {
     "name": "stdout",
     "output_type": "stream",
     "text": [
      "                   Estimate   LCB    UCB \n",
      "-----------------------------------------\n",
      "Pooled odds           1.237   0.913 1.675\n",
      "Pooled log odds       0.213  -0.091 0.516\n",
      "Pooled risk ratio     1.035              \n",
      "                                         \n",
      "                 Statistic P-value \n",
      "-----------------------------------\n",
      "Test of OR=1         1.890   0.169 \n",
      "Test constant OR     0.000     nan \n",
      "                       \n",
      "-----------------------\n",
      "Number of tables    1  \n",
      "Min n            1251  \n",
      "Max n            1251  \n",
      "Avg n            1251  \n",
      "Total n          1251  \n",
      "-----------------------\n"
     ]
    }
   ],
   "source": []
  },
  {
   "cell_type": "code",
   "execution_count": 91,
   "metadata": {},
   "outputs": [
    {
     "name": "stdout",
     "output_type": "stream",
     "text": [
      "pvalue      0.3230662837514884\n",
      "statistic   2.2597955279197053\n"
     ]
    }
   ],
   "source": [
    "a = st.test_equal_odds()\n",
    "print(a)"
   ]
  },
  {
   "cell_type": "code",
   "execution_count": 11,
   "metadata": {},
   "outputs": [
    {
     "data": {
      "text/html": [
       "<div>\n",
       "<style scoped>\n",
       "    .dataframe tbody tr th:only-of-type {\n",
       "        vertical-align: middle;\n",
       "    }\n",
       "\n",
       "    .dataframe tbody tr th {\n",
       "        vertical-align: top;\n",
       "    }\n",
       "\n",
       "    .dataframe thead th {\n",
       "        text-align: right;\n",
       "    }\n",
       "</style>\n",
       "<table border=\"1\" class=\"dataframe\">\n",
       "  <thead>\n",
       "    <tr style=\"text-align: right;\">\n",
       "      <th>Improved</th>\n",
       "      <th>None</th>\n",
       "      <th>Some</th>\n",
       "      <th>Marked</th>\n",
       "    </tr>\n",
       "    <tr>\n",
       "      <th>Treatment</th>\n",
       "      <th></th>\n",
       "      <th></th>\n",
       "      <th></th>\n",
       "    </tr>\n",
       "  </thead>\n",
       "  <tbody>\n",
       "    <tr>\n",
       "      <th>Placebo</th>\n",
       "      <td>29</td>\n",
       "      <td>7</td>\n",
       "      <td>7</td>\n",
       "    </tr>\n",
       "    <tr>\n",
       "      <th>Treated</th>\n",
       "      <td>13</td>\n",
       "      <td>7</td>\n",
       "      <td>21</td>\n",
       "    </tr>\n",
       "  </tbody>\n",
       "</table>\n",
       "</div>"
      ],
      "text/plain": [
       "Improved   None  Some  Marked\n",
       "Treatment                    \n",
       "Placebo      29     7       7\n",
       "Treated      13     7      21"
      ]
     },
     "execution_count": 11,
     "metadata": {},
     "output_type": "execute_result"
    }
   ],
   "source": [
    "df = sm.datasets.get_rdataset(\"Arthritis\", \"vcd\").data\n",
    "\n",
    "df.fillna({\"Improved\":\"None\"}, inplace=True)\n",
    "\n",
    "tab = pandas.crosstab(df['Treatment'], df['Improved'])\n",
    "tab = tab.loc[:, [\"None\", \"Some\", \"Marked\"]]\n",
    "tab\n",
    "# table = sm.stats.Table(tab)\n",
    "# print(table)"
   ]
  },
  {
   "cell_type": "code",
   "execution_count": 55,
   "metadata": {},
   "outputs": [
    {
     "data": {
      "text/html": [
       "<div>\n",
       "<style scoped>\n",
       "    .dataframe tbody tr th:only-of-type {\n",
       "        vertical-align: middle;\n",
       "    }\n",
       "\n",
       "    .dataframe tbody tr th {\n",
       "        vertical-align: top;\n",
       "    }\n",
       "\n",
       "    .dataframe thead th {\n",
       "        text-align: right;\n",
       "    }\n",
       "</style>\n",
       "<table border=\"1\" class=\"dataframe\">\n",
       "  <thead>\n",
       "    <tr style=\"text-align: right;\">\n",
       "      <th></th>\n",
       "      <th>smoking_yes_cancer_yes</th>\n",
       "      <th>smoking_yes_cancer_no</th>\n",
       "      <th>smoking_no_cancer_yes</th>\n",
       "      <th>smoking_no_cancer_no</th>\n",
       "    </tr>\n",
       "    <tr>\n",
       "      <th>Location</th>\n",
       "      <th></th>\n",
       "      <th></th>\n",
       "      <th></th>\n",
       "      <th></th>\n",
       "    </tr>\n",
       "  </thead>\n",
       "  <tbody>\n",
       "    <tr>\n",
       "      <th>Beijing</th>\n",
       "      <td>126</td>\n",
       "      <td>100</td>\n",
       "      <td>35</td>\n",
       "      <td>61</td>\n",
       "    </tr>\n",
       "    <tr>\n",
       "      <th>Shanghai</th>\n",
       "      <td>908</td>\n",
       "      <td>688</td>\n",
       "      <td>497</td>\n",
       "      <td>807</td>\n",
       "    </tr>\n",
       "    <tr>\n",
       "      <th>Shenyang</th>\n",
       "      <td>913</td>\n",
       "      <td>747</td>\n",
       "      <td>336</td>\n",
       "      <td>598</td>\n",
       "    </tr>\n",
       "    <tr>\n",
       "      <th>Nanjng</th>\n",
       "      <td>235</td>\n",
       "      <td>172</td>\n",
       "      <td>58</td>\n",
       "      <td>121</td>\n",
       "    </tr>\n",
       "    <tr>\n",
       "      <th>Harbin</th>\n",
       "      <td>402</td>\n",
       "      <td>308</td>\n",
       "      <td>121</td>\n",
       "      <td>215</td>\n",
       "    </tr>\n",
       "    <tr>\n",
       "      <th>Zhengzhou</th>\n",
       "      <td>182</td>\n",
       "      <td>156</td>\n",
       "      <td>72</td>\n",
       "      <td>98</td>\n",
       "    </tr>\n",
       "    <tr>\n",
       "      <th>Taiyuan</th>\n",
       "      <td>60</td>\n",
       "      <td>99</td>\n",
       "      <td>11</td>\n",
       "      <td>43</td>\n",
       "    </tr>\n",
       "    <tr>\n",
       "      <th>Nanchang</th>\n",
       "      <td>104</td>\n",
       "      <td>89</td>\n",
       "      <td>21</td>\n",
       "      <td>36</td>\n",
       "    </tr>\n",
       "  </tbody>\n",
       "</table>\n",
       "</div>"
      ],
      "text/plain": [
       "           smoking_yes_cancer_yes  smoking_yes_cancer_no  \\\n",
       "Location                                                   \n",
       "Beijing                       126                    100   \n",
       "Shanghai                      908                    688   \n",
       "Shenyang                      913                    747   \n",
       "Nanjng                        235                    172   \n",
       "Harbin                        402                    308   \n",
       "Zhengzhou                     182                    156   \n",
       "Taiyuan                        60                     99   \n",
       "Nanchang                      104                     89   \n",
       "\n",
       "           smoking_no_cancer_yes  smoking_no_cancer_no  \n",
       "Location                                                \n",
       "Beijing                       35                    61  \n",
       "Shanghai                     497                   807  \n",
       "Shenyang                     336                   598  \n",
       "Nanjng                        58                   121  \n",
       "Harbin                       121                   215  \n",
       "Zhengzhou                     72                    98  \n",
       "Taiyuan                       11                    43  \n",
       "Nanchang                      21                    36  "
      ]
     },
     "execution_count": 55,
     "metadata": {},
     "output_type": "execute_result"
    }
   ],
   "source": [
    "data.data"
   ]
  },
  {
   "cell_type": "code",
   "execution_count": 71,
   "metadata": {},
   "outputs": [
    {
     "name": "stdout",
     "output_type": "stream",
     "text": [
      "                   Estimate   LCB    UCB \n",
      "-----------------------------------------\n",
      "Pooled odds           2.174   1.984 2.383\n",
      "Pooled log odds       0.777   0.685 0.868\n",
      "Pooled risk ratio     1.519              \n",
      "                                         \n",
      "                 Statistic P-value \n",
      "-----------------------------------\n",
      "Test of OR=1       280.138   0.000 \n",
      "Test constant OR     5.200   0.636 \n",
      "                       \n",
      "-----------------------\n",
      "Number of tables    8  \n",
      "Min n             213  \n",
      "Max n            2900  \n",
      "Avg n            1052  \n",
      "Total n          8419  \n",
      "-----------------------\n"
     ]
    }
   ],
   "source": [
    "data = sm.datasets.china_smoking.load_pandas()\n",
    "\n",
    "mat = np.asarray(data.data)\n",
    "\n",
    "tables = [np.reshape(x.tolist(), (2, 2)) for x in mat]\n",
    "\n",
    "st = sm.stats.StratifiedTable(tables)\n",
    "\n",
    "print(st.summary())"
   ]
  },
  {
   "cell_type": "code",
   "execution_count": 72,
   "metadata": {},
   "outputs": [
    {
     "data": {
      "text/html": [
       "<div>\n",
       "<style scoped>\n",
       "    .dataframe tbody tr th:only-of-type {\n",
       "        vertical-align: middle;\n",
       "    }\n",
       "\n",
       "    .dataframe tbody tr th {\n",
       "        vertical-align: top;\n",
       "    }\n",
       "\n",
       "    .dataframe thead th {\n",
       "        text-align: right;\n",
       "    }\n",
       "</style>\n",
       "<table border=\"1\" class=\"dataframe\">\n",
       "  <thead>\n",
       "    <tr style=\"text-align: right;\">\n",
       "      <th></th>\n",
       "      <th>smoking_yes_cancer_yes</th>\n",
       "      <th>smoking_yes_cancer_no</th>\n",
       "      <th>smoking_no_cancer_yes</th>\n",
       "      <th>smoking_no_cancer_no</th>\n",
       "    </tr>\n",
       "    <tr>\n",
       "      <th>Location</th>\n",
       "      <th></th>\n",
       "      <th></th>\n",
       "      <th></th>\n",
       "      <th></th>\n",
       "    </tr>\n",
       "  </thead>\n",
       "  <tbody>\n",
       "    <tr>\n",
       "      <th>Beijing</th>\n",
       "      <td>126</td>\n",
       "      <td>100</td>\n",
       "      <td>35</td>\n",
       "      <td>61</td>\n",
       "    </tr>\n",
       "    <tr>\n",
       "      <th>Shanghai</th>\n",
       "      <td>908</td>\n",
       "      <td>688</td>\n",
       "      <td>497</td>\n",
       "      <td>807</td>\n",
       "    </tr>\n",
       "    <tr>\n",
       "      <th>Shenyang</th>\n",
       "      <td>913</td>\n",
       "      <td>747</td>\n",
       "      <td>336</td>\n",
       "      <td>598</td>\n",
       "    </tr>\n",
       "    <tr>\n",
       "      <th>Nanjng</th>\n",
       "      <td>235</td>\n",
       "      <td>172</td>\n",
       "      <td>58</td>\n",
       "      <td>121</td>\n",
       "    </tr>\n",
       "    <tr>\n",
       "      <th>Harbin</th>\n",
       "      <td>402</td>\n",
       "      <td>308</td>\n",
       "      <td>121</td>\n",
       "      <td>215</td>\n",
       "    </tr>\n",
       "    <tr>\n",
       "      <th>Zhengzhou</th>\n",
       "      <td>182</td>\n",
       "      <td>156</td>\n",
       "      <td>72</td>\n",
       "      <td>98</td>\n",
       "    </tr>\n",
       "    <tr>\n",
       "      <th>Taiyuan</th>\n",
       "      <td>60</td>\n",
       "      <td>99</td>\n",
       "      <td>11</td>\n",
       "      <td>43</td>\n",
       "    </tr>\n",
       "    <tr>\n",
       "      <th>Nanchang</th>\n",
       "      <td>104</td>\n",
       "      <td>89</td>\n",
       "      <td>21</td>\n",
       "      <td>36</td>\n",
       "    </tr>\n",
       "  </tbody>\n",
       "</table>\n",
       "</div>"
      ],
      "text/plain": [
       "           smoking_yes_cancer_yes  smoking_yes_cancer_no  \\\n",
       "Location                                                   \n",
       "Beijing                       126                    100   \n",
       "Shanghai                      908                    688   \n",
       "Shenyang                      913                    747   \n",
       "Nanjng                        235                    172   \n",
       "Harbin                        402                    308   \n",
       "Zhengzhou                     182                    156   \n",
       "Taiyuan                        60                     99   \n",
       "Nanchang                      104                     89   \n",
       "\n",
       "           smoking_no_cancer_yes  smoking_no_cancer_no  \n",
       "Location                                                \n",
       "Beijing                       35                    61  \n",
       "Shanghai                     497                   807  \n",
       "Shenyang                     336                   598  \n",
       "Nanjng                        58                   121  \n",
       "Harbin                       121                   215  \n",
       "Zhengzhou                     72                    98  \n",
       "Taiyuan                       11                    43  \n",
       "Nanchang                      21                    36  "
      ]
     },
     "execution_count": 72,
     "metadata": {},
     "output_type": "execute_result"
    }
   ],
   "source": [
    "data.data"
   ]
  },
  {
   "cell_type": "code",
   "execution_count": 74,
   "metadata": {},
   "outputs": [
    {
     "data": {
      "text/plain": [
       "array([[126, 100,  35,  61],\n",
       "       [908, 688, 497, 807],\n",
       "       [913, 747, 336, 598],\n",
       "       [235, 172,  58, 121],\n",
       "       [402, 308, 121, 215],\n",
       "       [182, 156,  72,  98],\n",
       "       [ 60,  99,  11,  43],\n",
       "       [104,  89,  21,  36]])"
      ]
     },
     "execution_count": 74,
     "metadata": {},
     "output_type": "execute_result"
    }
   ],
   "source": [
    "mat"
   ]
  },
  {
   "cell_type": "code",
   "execution_count": 75,
   "metadata": {},
   "outputs": [
    {
     "data": {
      "text/plain": [
       "[array([[126, 100],\n",
       "        [ 35,  61]]),\n",
       " array([[908, 688],\n",
       "        [497, 807]]),\n",
       " array([[913, 747],\n",
       "        [336, 598]]),\n",
       " array([[235, 172],\n",
       "        [ 58, 121]]),\n",
       " array([[402, 308],\n",
       "        [121, 215]]),\n",
       " array([[182, 156],\n",
       "        [ 72,  98]]),\n",
       " array([[60, 99],\n",
       "        [11, 43]]),\n",
       " array([[104,  89],\n",
       "        [ 21,  36]])]"
      ]
     },
     "execution_count": 75,
     "metadata": {},
     "output_type": "execute_result"
    }
   ],
   "source": [
    "tables"
   ]
  },
  {
   "cell_type": "code",
   "execution_count": null,
   "metadata": {},
   "outputs": [],
   "source": []
  }
 ],
 "metadata": {
  "kernelspec": {
   "display_name": "Python 3",
   "language": "python",
   "name": "python3"
  },
  "language_info": {
   "codemirror_mode": {
    "name": "ipython",
    "version": 3
   },
   "file_extension": ".py",
   "mimetype": "text/x-python",
   "name": "python",
   "nbconvert_exporter": "python",
   "pygments_lexer": "ipython3",
   "version": "3.12.7"
  }
 },
 "nbformat": 4,
 "nbformat_minor": 2
}
