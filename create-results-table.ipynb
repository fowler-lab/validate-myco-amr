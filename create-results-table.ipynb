{
 "cells": [
  {
   "cell_type": "code",
   "execution_count": 1,
   "metadata": {},
   "outputs": [],
   "source": [
    "import pandas, copy"
   ]
  },
  {
   "cell_type": "code",
   "execution_count": 2,
   "metadata": {},
   "outputs": [],
   "source": [
    "who_drugs = list(pandas.read_csv('dat/drugs/who2_drugs.csv').drug)\n",
    "plate_drugs = list(pandas.read_csv('dat/drugs/plate_drugs.csv').drug)\n",
    "other_drugs = list(pandas.read_csv('dat/drugs/other_drugs.csv').drug)\n",
    "mgit_drugs = list(pandas.read_csv('dat/drugs/mgit_drugs.csv').drug)"
   ]
  },
  {
   "cell_type": "code",
   "execution_count": 3,
   "metadata": {},
   "outputs": [
    {
     "data": {
      "text/html": [
       "<div>\n",
       "<style scoped>\n",
       "    .dataframe tbody tr th:only-of-type {\n",
       "        vertical-align: middle;\n",
       "    }\n",
       "\n",
       "    .dataframe tbody tr th {\n",
       "        vertical-align: top;\n",
       "    }\n",
       "\n",
       "    .dataframe thead th {\n",
       "        text-align: right;\n",
       "    }\n",
       "</style>\n",
       "<table border=\"1\" class=\"dataframe\">\n",
       "  <thead>\n",
       "    <tr style=\"text-align: right;\">\n",
       "      <th></th>\n",
       "      <th>ENA_RUN_ACCESSION</th>\n",
       "      <th>UNIQUEID</th>\n",
       "      <th>DRUG</th>\n",
       "      <th>BINARY_PHENOTYPE</th>\n",
       "      <th>PHENOTYPE_QUALITY</th>\n",
       "      <th>PHENOTYPE_METHOD</th>\n",
       "    </tr>\n",
       "  </thead>\n",
       "  <tbody>\n",
       "    <tr>\n",
       "      <th>0</th>\n",
       "      <td>ERR9992611</td>\n",
       "      <td>site.10.subj.BC02023023.lab.BC02023023.iso.1</td>\n",
       "      <td>LZD</td>\n",
       "      <td>R</td>\n",
       "      <td>NaN</td>\n",
       "      <td>MGIT</td>\n",
       "    </tr>\n",
       "    <tr>\n",
       "      <th>1</th>\n",
       "      <td>ERR9992611</td>\n",
       "      <td>site.10.subj.BC02023023.lab.BC02023023.iso.1</td>\n",
       "      <td>BDQ</td>\n",
       "      <td>R</td>\n",
       "      <td>NaN</td>\n",
       "      <td>MGIT</td>\n",
       "    </tr>\n",
       "  </tbody>\n",
       "</table>\n",
       "</div>"
      ],
      "text/plain": [
       "  ENA_RUN_ACCESSION                                      UNIQUEID DRUG  \\\n",
       "0        ERR9992611  site.10.subj.BC02023023.lab.BC02023023.iso.1  LZD   \n",
       "1        ERR9992611  site.10.subj.BC02023023.lab.BC02023023.iso.1  BDQ   \n",
       "\n",
       "  BINARY_PHENOTYPE PHENOTYPE_QUALITY PHENOTYPE_METHOD  \n",
       "0                R               NaN             MGIT  \n",
       "1                R               NaN             MGIT  "
      ]
     },
     "execution_count": 3,
     "metadata": {},
     "output_type": "execute_result"
    }
   ],
   "source": [
    "PHENOTYPES = pandas.read_csv('dat/PHENOTYPES.csv')\n",
    "PHENOTYPES[:2]"
   ]
  },
  {
   "cell_type": "code",
   "execution_count": 4,
   "metadata": {},
   "outputs": [
    {
     "data": {
      "text/html": [
       "<div>\n",
       "<style scoped>\n",
       "    .dataframe tbody tr th:only-of-type {\n",
       "        vertical-align: middle;\n",
       "    }\n",
       "\n",
       "    .dataframe tbody tr th {\n",
       "        vertical-align: top;\n",
       "    }\n",
       "\n",
       "    .dataframe thead th {\n",
       "        text-align: right;\n",
       "    }\n",
       "</style>\n",
       "<table border=\"1\" class=\"dataframe\">\n",
       "  <thead>\n",
       "    <tr style=\"text-align: right;\">\n",
       "      <th></th>\n",
       "      <th>ENA_RUN_ACCESSION</th>\n",
       "      <th>DRUG</th>\n",
       "      <th>GENE</th>\n",
       "      <th>MUTATION</th>\n",
       "      <th>PREDICTION</th>\n",
       "    </tr>\n",
       "  </thead>\n",
       "  <tbody>\n",
       "    <tr>\n",
       "      <th>0</th>\n",
       "      <td>ERR4829376</td>\n",
       "      <td>CAP</td>\n",
       "      <td>tlyA</td>\n",
       "      <td>L11L</td>\n",
       "      <td>S</td>\n",
       "    </tr>\n",
       "    <tr>\n",
       "      <th>1</th>\n",
       "      <td>ERR4829376</td>\n",
       "      <td>DLM</td>\n",
       "      <td>fgd1</td>\n",
       "      <td>F320F</td>\n",
       "      <td>S</td>\n",
       "    </tr>\n",
       "    <tr>\n",
       "      <th>2</th>\n",
       "      <td>ERR4829376</td>\n",
       "      <td>ETH</td>\n",
       "      <td>ethA</td>\n",
       "      <td>Y147!</td>\n",
       "      <td>R</td>\n",
       "    </tr>\n",
       "  </tbody>\n",
       "</table>\n",
       "</div>"
      ],
      "text/plain": [
       "  ENA_RUN_ACCESSION DRUG  GENE MUTATION PREDICTION\n",
       "0        ERR4829376  CAP  tlyA     L11L          S\n",
       "1        ERR4829376  DLM  fgd1    F320F          S\n",
       "2        ERR4829376  ETH  ethA    Y147!          R"
      ]
     },
     "execution_count": 4,
     "metadata": {},
     "output_type": "execute_result"
    }
   ],
   "source": [
    "EFFECTS = pandas.read_csv('dat/EFFECTS.csv')\n",
    "EFFECTS[:3]"
   ]
  },
  {
   "cell_type": "code",
   "execution_count": 5,
   "metadata": {},
   "outputs": [
    {
     "data": {
      "text/plain": [
       "2663"
      ]
     },
     "execution_count": 5,
     "metadata": {},
     "output_type": "execute_result"
    }
   ],
   "source": [
    "EFFECTS.ENA_RUN_ACCESSION.nunique()"
   ]
  },
  {
   "cell_type": "code",
   "execution_count": 6,
   "metadata": {},
   "outputs": [
    {
     "data": {
      "text/html": [
       "<div>\n",
       "<style scoped>\n",
       "    .dataframe tbody tr th:only-of-type {\n",
       "        vertical-align: middle;\n",
       "    }\n",
       "\n",
       "    .dataframe tbody tr th {\n",
       "        vertical-align: top;\n",
       "    }\n",
       "\n",
       "    .dataframe thead th {\n",
       "        text-align: right;\n",
       "    }\n",
       "</style>\n",
       "<table border=\"1\" class=\"dataframe\">\n",
       "  <thead>\n",
       "    <tr style=\"text-align: right;\">\n",
       "      <th>IS_NULL</th>\n",
       "      <th>False</th>\n",
       "      <th>True</th>\n",
       "    </tr>\n",
       "    <tr>\n",
       "      <th>IS_MINOR_ALLELE</th>\n",
       "      <th></th>\n",
       "      <th></th>\n",
       "    </tr>\n",
       "  </thead>\n",
       "  <tbody>\n",
       "    <tr>\n",
       "      <th>False</th>\n",
       "      <td>51966</td>\n",
       "      <td>375</td>\n",
       "    </tr>\n",
       "    <tr>\n",
       "      <th>True</th>\n",
       "      <td>1057</td>\n",
       "      <td>0</td>\n",
       "    </tr>\n",
       "  </tbody>\n",
       "</table>\n",
       "</div>"
      ],
      "text/plain": [
       "IS_NULL          False  True \n",
       "IS_MINOR_ALLELE              \n",
       "False            51966    375\n",
       "True              1057      0"
      ]
     },
     "execution_count": 6,
     "metadata": {},
     "output_type": "execute_result"
    }
   ],
   "source": [
    "def assign_booleans(row):\n",
    "    minor_call = False\n",
    "    is_null = False\n",
    "    if \":\" in row.MUTATION:\n",
    "        minor_call = True\n",
    "    if 'x' in row.MUTATION:\n",
    "        is_null = True\n",
    "    elif 'X' in row.MUTATION:\n",
    "        is_null = True\n",
    "    return pandas.Series([minor_call, is_null])\n",
    "\n",
    "EFFECTS[['IS_MINOR_ALLELE','IS_NULL']] = EFFECTS.apply(assign_booleans, axis=1) \n",
    "\n",
    "pandas.crosstab(EFFECTS.IS_MINOR_ALLELE, EFFECTS.IS_NULL)"
   ]
  },
  {
   "cell_type": "code",
   "execution_count": 7,
   "metadata": {},
   "outputs": [],
   "source": [
    "EFFECTS1 = copy.deepcopy(EFFECTS[~(EFFECTS.IS_MINOR_ALLELE) & ~(EFFECTS.IS_NULL)])\n",
    "\n",
    "EFFECTS2 = copy.deepcopy(EFFECTS[~(EFFECTS.IS_MINOR_ALLELE)])\n",
    "\n",
    "EFFECTS3 = copy.deepcopy(EFFECTS)"
   ]
  }
 ],
 "metadata": {
  "kernelspec": {
   "display_name": "Python 3",
   "language": "python",
   "name": "python3"
  },
  "language_info": {
   "codemirror_mode": {
    "name": "ipython",
    "version": 3
   },
   "file_extension": ".py",
   "mimetype": "text/x-python",
   "name": "python",
   "nbconvert_exporter": "python",
   "pygments_lexer": "ipython3",
   "version": "3.12.7"
  }
 },
 "nbformat": 4,
 "nbformat_minor": 2
}
