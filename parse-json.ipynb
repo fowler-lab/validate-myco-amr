{
 "cells": [
  {
   "cell_type": "code",
   "execution_count": 1,
   "metadata": {},
   "outputs": [],
   "source": [
    "import pandas, pathlib, json\n",
    "\n",
    "from collections import defaultdict"
   ]
  },
  {
   "cell_type": "markdown",
   "metadata": {},
   "source": [
    "## Parsing the JSON files produced by EIT Pathogena\n",
    "\n",
    "We've downloaded the `main_report` and `resistance_prediction_report` for each sample using the CLI tool; now we need to aggregate the relevant data into some pandas DataFrames to make downstream analysis easier.\n",
    "\n",
    "We will produce two tables.\n",
    "\n",
    "`EFFECTS`: one row per mutation that leads to a predicted effect on a drug\n",
    "\n",
    "`PREDICTIONS`: the above collapsed down to one row per sample per drug"
   ]
  },
  {
   "cell_type": "code",
   "execution_count": 2,
   "metadata": {},
   "outputs": [],
   "source": [
    "predictions = defaultdict(list)\n",
    "effects = defaultdict(list)\n",
    "\n",
    "for folder in ['ukmyc', 'mgit']:\n",
    "\n",
    "    path = pathlib.Path('dat/outputs/')\n",
    "\n",
    "    for i in (path / folder).glob('*.resistance_prediction_report.json'):\n",
    "\n",
    "        f = open(i)\n",
    "\n",
    "        sample = i.stem.split('.')[0]\n",
    "\n",
    "        data = json.load(f)\n",
    "\n",
    "        for drug, prediction in data['data']['antibiogram'].items():\n",
    "            predictions['ENA_RUN_ACCESSION'].append(sample)\n",
    "            predictions['DRUG'].append(drug)\n",
    "            predictions['PREDICTION'].append(prediction)\n",
    "\n",
    "        for drug in data['data']['effects']:\n",
    "            for i in (data['data']['effects'][drug]):\n",
    "                if \"phenotype\" in i.keys():\n",
    "                    continue\n",
    "                effects['ENA_RUN_ACCESSION'].append(sample)\n",
    "                effects['DRUG'].append(drug)\n",
    "                effects['GENE'].append(i['gene'])\n",
    "                effects['MUTATION'].append(i['mutation'])\n",
    "                effects['PREDICTION'].append(i['prediction'])\n",
    "                epistasis = False\n",
    "                if 'expert_rule' in i['evidence'].keys():\n",
    "                    if \"epistasis\" in i['evidence']['expert_rule']:\n",
    "                        epistasis = True\n",
    "                effects['EPISTASIS'].append(epistasis)         \n",
    "\n",
    "predictions= pandas.DataFrame.from_dict(predictions)\n",
    "effects = pandas.DataFrame.from_dict(effects)"
   ]
  },
  {
   "cell_type": "code",
   "execution_count": 3,
   "metadata": {},
   "outputs": [
    {
     "data": {
      "text/html": [
       "<div>\n",
       "<style scoped>\n",
       "    .dataframe tbody tr th:only-of-type {\n",
       "        vertical-align: middle;\n",
       "    }\n",
       "\n",
       "    .dataframe tbody tr th {\n",
       "        vertical-align: top;\n",
       "    }\n",
       "\n",
       "    .dataframe thead th {\n",
       "        text-align: right;\n",
       "    }\n",
       "</style>\n",
       "<table border=\"1\" class=\"dataframe\">\n",
       "  <thead>\n",
       "    <tr style=\"text-align: right;\">\n",
       "      <th></th>\n",
       "      <th>ENA_RUN_ACCESSION</th>\n",
       "      <th>DRUG</th>\n",
       "      <th>GENE</th>\n",
       "      <th>MUTATION</th>\n",
       "      <th>PREDICTION</th>\n",
       "      <th>EPISTASIS</th>\n",
       "    </tr>\n",
       "  </thead>\n",
       "  <tbody>\n",
       "    <tr>\n",
       "      <th>0</th>\n",
       "      <td>ERR4829376</td>\n",
       "      <td>CAP</td>\n",
       "      <td>tlyA</td>\n",
       "      <td>L11L</td>\n",
       "      <td>S</td>\n",
       "      <td>False</td>\n",
       "    </tr>\n",
       "    <tr>\n",
       "      <th>1</th>\n",
       "      <td>ERR4829376</td>\n",
       "      <td>DLM</td>\n",
       "      <td>fgd1</td>\n",
       "      <td>F320F</td>\n",
       "      <td>S</td>\n",
       "      <td>False</td>\n",
       "    </tr>\n",
       "    <tr>\n",
       "      <th>2</th>\n",
       "      <td>ERR4829376</td>\n",
       "      <td>ETH</td>\n",
       "      <td>ethA</td>\n",
       "      <td>Y147!</td>\n",
       "      <td>R</td>\n",
       "      <td>False</td>\n",
       "    </tr>\n",
       "  </tbody>\n",
       "</table>\n",
       "</div>"
      ],
      "text/plain": [
       "  ENA_RUN_ACCESSION DRUG  GENE MUTATION PREDICTION  EPISTASIS\n",
       "0        ERR4829376  CAP  tlyA     L11L          S      False\n",
       "1        ERR4829376  DLM  fgd1    F320F          S      False\n",
       "2        ERR4829376  ETH  ethA    Y147!          R      False"
      ]
     },
     "execution_count": 3,
     "metadata": {},
     "output_type": "execute_result"
    }
   ],
   "source": [
    "effects[:3]"
   ]
  },
  {
   "cell_type": "code",
   "execution_count": 4,
   "metadata": {},
   "outputs": [
    {
     "data": {
      "text/html": [
       "<div>\n",
       "<style scoped>\n",
       "    .dataframe tbody tr th:only-of-type {\n",
       "        vertical-align: middle;\n",
       "    }\n",
       "\n",
       "    .dataframe tbody tr th {\n",
       "        vertical-align: top;\n",
       "    }\n",
       "\n",
       "    .dataframe thead th {\n",
       "        text-align: right;\n",
       "    }\n",
       "</style>\n",
       "<table border=\"1\" class=\"dataframe\">\n",
       "  <thead>\n",
       "    <tr style=\"text-align: right;\">\n",
       "      <th></th>\n",
       "      <th>ENA_RUN_ACCESSION</th>\n",
       "      <th>DRUG</th>\n",
       "      <th>GENE</th>\n",
       "      <th>MUTATION</th>\n",
       "      <th>PREDICTION</th>\n",
       "      <th>EPISTASIS</th>\n",
       "    </tr>\n",
       "  </thead>\n",
       "  <tbody>\n",
       "    <tr>\n",
       "      <th>13109</th>\n",
       "      <td>ERR4829406</td>\n",
       "      <td>AMI</td>\n",
       "      <td>None</td>\n",
       "      <td>eis@626_ins_g&amp;eis@c-14t</td>\n",
       "      <td>S</td>\n",
       "      <td>True</td>\n",
       "    </tr>\n",
       "    <tr>\n",
       "      <th>13124</th>\n",
       "      <td>ERR4829406</td>\n",
       "      <td>KAN</td>\n",
       "      <td>None</td>\n",
       "      <td>eis@626_ins_g&amp;eis@c-14t</td>\n",
       "      <td>S</td>\n",
       "      <td>True</td>\n",
       "    </tr>\n",
       "    <tr>\n",
       "      <th>33524</th>\n",
       "      <td>ERR5917746</td>\n",
       "      <td>AMI</td>\n",
       "      <td>None</td>\n",
       "      <td>eis@268_del_acgcatcgccg&amp;eis@c-14t</td>\n",
       "      <td>S</td>\n",
       "      <td>True</td>\n",
       "    </tr>\n",
       "    <tr>\n",
       "      <th>33538</th>\n",
       "      <td>ERR5917746</td>\n",
       "      <td>KAN</td>\n",
       "      <td>None</td>\n",
       "      <td>eis@268_del_acgcatcgccg&amp;eis@c-14t</td>\n",
       "      <td>S</td>\n",
       "      <td>True</td>\n",
       "    </tr>\n",
       "  </tbody>\n",
       "</table>\n",
       "</div>"
      ],
      "text/plain": [
       "      ENA_RUN_ACCESSION DRUG  GENE                           MUTATION  \\\n",
       "13109        ERR4829406  AMI  None            eis@626_ins_g&eis@c-14t   \n",
       "13124        ERR4829406  KAN  None            eis@626_ins_g&eis@c-14t   \n",
       "33524        ERR5917746  AMI  None  eis@268_del_acgcatcgccg&eis@c-14t   \n",
       "33538        ERR5917746  KAN  None  eis@268_del_acgcatcgccg&eis@c-14t   \n",
       "\n",
       "      PREDICTION  EPISTASIS  \n",
       "13109          S       True  \n",
       "13124          S       True  \n",
       "33524          S       True  \n",
       "33538          S       True  "
      ]
     },
     "execution_count": 4,
     "metadata": {},
     "output_type": "execute_result"
    }
   ],
   "source": [
    "effects[effects.EPISTASIS]"
   ]
  },
  {
   "cell_type": "code",
   "execution_count": 5,
   "metadata": {},
   "outputs": [
    {
     "data": {
      "text/html": [
       "<div>\n",
       "<style scoped>\n",
       "    .dataframe tbody tr th:only-of-type {\n",
       "        vertical-align: middle;\n",
       "    }\n",
       "\n",
       "    .dataframe tbody tr th {\n",
       "        vertical-align: top;\n",
       "    }\n",
       "\n",
       "    .dataframe thead th {\n",
       "        text-align: right;\n",
       "    }\n",
       "</style>\n",
       "<table border=\"1\" class=\"dataframe\">\n",
       "  <thead>\n",
       "    <tr style=\"text-align: right;\">\n",
       "      <th>IS_NULL</th>\n",
       "      <th>False</th>\n",
       "      <th>True</th>\n",
       "    </tr>\n",
       "    <tr>\n",
       "      <th>IS_MINOR_ALLELE</th>\n",
       "      <th></th>\n",
       "      <th></th>\n",
       "    </tr>\n",
       "  </thead>\n",
       "  <tbody>\n",
       "    <tr>\n",
       "      <th>False</th>\n",
       "      <td>51966</td>\n",
       "      <td>375</td>\n",
       "    </tr>\n",
       "    <tr>\n",
       "      <th>True</th>\n",
       "      <td>1057</td>\n",
       "      <td>0</td>\n",
       "    </tr>\n",
       "  </tbody>\n",
       "</table>\n",
       "</div>"
      ],
      "text/plain": [
       "IS_NULL          False  True \n",
       "IS_MINOR_ALLELE              \n",
       "False            51966    375\n",
       "True              1057      0"
      ]
     },
     "execution_count": 5,
     "metadata": {},
     "output_type": "execute_result"
    }
   ],
   "source": [
    "def assign_booleans(row):\n",
    "    minor_call = False\n",
    "    is_null = False\n",
    "    if \":\" in row.MUTATION:\n",
    "        minor_call = True\n",
    "    if 'x' in row.MUTATION:\n",
    "        is_null = True\n",
    "    elif 'X' in row.MUTATION:\n",
    "        is_null = True\n",
    "    return pandas.Series([minor_call, is_null])\n",
    "\n",
    "effects[['IS_MINOR_ALLELE','IS_NULL']] = effects.apply(assign_booleans, axis=1) \n",
    "\n",
    "pandas.crosstab(effects.IS_MINOR_ALLELE, effects.IS_NULL)"
   ]
  },
  {
   "cell_type": "code",
   "execution_count": 6,
   "metadata": {},
   "outputs": [
    {
     "name": "stdout",
     "output_type": "stream",
     "text": [
      "The EFFECTS table contains 2663 samples and 53398 rows\n"
     ]
    }
   ],
   "source": [
    "print(f\"The EFFECTS table contains {effects.ENA_RUN_ACCESSION.nunique()} samples and {effects.shape[0]} rows\")"
   ]
  },
  {
   "cell_type": "code",
   "execution_count": 7,
   "metadata": {},
   "outputs": [
    {
     "data": {
      "text/html": [
       "<div>\n",
       "<style scoped>\n",
       "    .dataframe tbody tr th:only-of-type {\n",
       "        vertical-align: middle;\n",
       "    }\n",
       "\n",
       "    .dataframe tbody tr th {\n",
       "        vertical-align: top;\n",
       "    }\n",
       "\n",
       "    .dataframe thead th {\n",
       "        text-align: right;\n",
       "    }\n",
       "</style>\n",
       "<table border=\"1\" class=\"dataframe\">\n",
       "  <thead>\n",
       "    <tr style=\"text-align: right;\">\n",
       "      <th></th>\n",
       "      <th>ENA_RUN_ACCESSION</th>\n",
       "      <th>DRUG</th>\n",
       "      <th>PREDICTION</th>\n",
       "    </tr>\n",
       "  </thead>\n",
       "  <tbody>\n",
       "    <tr>\n",
       "      <th>0</th>\n",
       "      <td>ERR4829376</td>\n",
       "      <td>AMI</td>\n",
       "      <td>S</td>\n",
       "    </tr>\n",
       "    <tr>\n",
       "      <th>1</th>\n",
       "      <td>ERR4829376</td>\n",
       "      <td>BDQ</td>\n",
       "      <td>S</td>\n",
       "    </tr>\n",
       "    <tr>\n",
       "      <th>2</th>\n",
       "      <td>ERR4829376</td>\n",
       "      <td>CAP</td>\n",
       "      <td>S</td>\n",
       "    </tr>\n",
       "  </tbody>\n",
       "</table>\n",
       "</div>"
      ],
      "text/plain": [
       "  ENA_RUN_ACCESSION DRUG PREDICTION\n",
       "0        ERR4829376  AMI          S\n",
       "1        ERR4829376  BDQ          S\n",
       "2        ERR4829376  CAP          S"
      ]
     },
     "execution_count": 7,
     "metadata": {},
     "output_type": "execute_result"
    }
   ],
   "source": [
    "predictions[:3]"
   ]
  },
  {
   "cell_type": "code",
   "execution_count": 8,
   "metadata": {},
   "outputs": [
    {
     "name": "stdout",
     "output_type": "stream",
     "text": [
      "The PREDICTIONS table contains 2663 samples and 39945 rows, the latter being 15 times the former since the WHOv2 catalogue contains 15 drugs\n"
     ]
    }
   ],
   "source": [
    "print(f\"The PREDICTIONS table contains {predictions.ENA_RUN_ACCESSION.nunique()} samples and {predictions.shape[0]} rows, the latter being 15 times the former since the WHOv2 catalogue contains 15 drugs\")"
   ]
  },
  {
   "cell_type": "code",
   "execution_count": 9,
   "metadata": {},
   "outputs": [],
   "source": [
    "effects.set_index(['ENA_RUN_ACCESSION','DRUG','GENE','MUTATION'], inplace=True, verify_integrity=True)\n",
    "predictions.set_index(['ENA_RUN_ACCESSION','DRUG'], inplace=True, verify_integrity=True)\n"
   ]
  },
  {
   "cell_type": "code",
   "execution_count": 10,
   "metadata": {},
   "outputs": [
    {
     "data": {
      "text/html": [
       "<div>\n",
       "<style scoped>\n",
       "    .dataframe tbody tr th:only-of-type {\n",
       "        vertical-align: middle;\n",
       "    }\n",
       "\n",
       "    .dataframe tbody tr th {\n",
       "        vertical-align: top;\n",
       "    }\n",
       "\n",
       "    .dataframe thead th {\n",
       "        text-align: right;\n",
       "    }\n",
       "</style>\n",
       "<table border=\"1\" class=\"dataframe\">\n",
       "  <thead>\n",
       "    <tr style=\"text-align: right;\">\n",
       "      <th></th>\n",
       "      <th></th>\n",
       "      <th></th>\n",
       "      <th></th>\n",
       "      <th>PREDICTION</th>\n",
       "      <th>EPISTASIS</th>\n",
       "      <th>IS_MINOR_ALLELE</th>\n",
       "      <th>IS_NULL</th>\n",
       "    </tr>\n",
       "    <tr>\n",
       "      <th>ENA_RUN_ACCESSION</th>\n",
       "      <th>DRUG</th>\n",
       "      <th>GENE</th>\n",
       "      <th>MUTATION</th>\n",
       "      <th></th>\n",
       "      <th></th>\n",
       "      <th></th>\n",
       "      <th></th>\n",
       "    </tr>\n",
       "  </thead>\n",
       "  <tbody>\n",
       "    <tr>\n",
       "      <th rowspan=\"3\" valign=\"top\">ERR4829376</th>\n",
       "      <th>CAP</th>\n",
       "      <th>tlyA</th>\n",
       "      <th>L11L</th>\n",
       "      <td>S</td>\n",
       "      <td>False</td>\n",
       "      <td>False</td>\n",
       "      <td>False</td>\n",
       "    </tr>\n",
       "    <tr>\n",
       "      <th>DLM</th>\n",
       "      <th>fgd1</th>\n",
       "      <th>F320F</th>\n",
       "      <td>S</td>\n",
       "      <td>False</td>\n",
       "      <td>False</td>\n",
       "      <td>False</td>\n",
       "    </tr>\n",
       "    <tr>\n",
       "      <th>ETH</th>\n",
       "      <th>ethA</th>\n",
       "      <th>Y147!</th>\n",
       "      <td>R</td>\n",
       "      <td>False</td>\n",
       "      <td>False</td>\n",
       "      <td>False</td>\n",
       "    </tr>\n",
       "  </tbody>\n",
       "</table>\n",
       "</div>"
      ],
      "text/plain": [
       "                                     PREDICTION  EPISTASIS  IS_MINOR_ALLELE  \\\n",
       "ENA_RUN_ACCESSION DRUG GENE MUTATION                                          \n",
       "ERR4829376        CAP  tlyA L11L              S      False            False   \n",
       "                  DLM  fgd1 F320F             S      False            False   \n",
       "                  ETH  ethA Y147!             R      False            False   \n",
       "\n",
       "                                      IS_NULL  \n",
       "ENA_RUN_ACCESSION DRUG GENE MUTATION           \n",
       "ERR4829376        CAP  tlyA L11L        False  \n",
       "                  DLM  fgd1 F320F       False  \n",
       "                  ETH  ethA Y147!       False  "
      ]
     },
     "execution_count": 10,
     "metadata": {},
     "output_type": "execute_result"
    }
   ],
   "source": [
    "effects[:3]"
   ]
  },
  {
   "cell_type": "code",
   "execution_count": 11,
   "metadata": {},
   "outputs": [
    {
     "data": {
      "text/html": [
       "<div>\n",
       "<style scoped>\n",
       "    .dataframe tbody tr th:only-of-type {\n",
       "        vertical-align: middle;\n",
       "    }\n",
       "\n",
       "    .dataframe tbody tr th {\n",
       "        vertical-align: top;\n",
       "    }\n",
       "\n",
       "    .dataframe thead th {\n",
       "        text-align: right;\n",
       "    }\n",
       "</style>\n",
       "<table border=\"1\" class=\"dataframe\">\n",
       "  <thead>\n",
       "    <tr style=\"text-align: right;\">\n",
       "      <th></th>\n",
       "      <th></th>\n",
       "      <th>PREDICTION</th>\n",
       "    </tr>\n",
       "    <tr>\n",
       "      <th>ENA_RUN_ACCESSION</th>\n",
       "      <th>DRUG</th>\n",
       "      <th></th>\n",
       "    </tr>\n",
       "  </thead>\n",
       "  <tbody>\n",
       "    <tr>\n",
       "      <th rowspan=\"3\" valign=\"top\">ERR4829376</th>\n",
       "      <th>AMI</th>\n",
       "      <td>S</td>\n",
       "    </tr>\n",
       "    <tr>\n",
       "      <th>BDQ</th>\n",
       "      <td>S</td>\n",
       "    </tr>\n",
       "    <tr>\n",
       "      <th>CAP</th>\n",
       "      <td>S</td>\n",
       "    </tr>\n",
       "  </tbody>\n",
       "</table>\n",
       "</div>"
      ],
      "text/plain": [
       "                       PREDICTION\n",
       "ENA_RUN_ACCESSION DRUG           \n",
       "ERR4829376        AMI           S\n",
       "                  BDQ           S\n",
       "                  CAP           S"
      ]
     },
     "execution_count": 11,
     "metadata": {},
     "output_type": "execute_result"
    }
   ],
   "source": [
    "predictions[:3]"
   ]
  },
  {
   "cell_type": "code",
   "execution_count": 12,
   "metadata": {},
   "outputs": [],
   "source": [
    "effects.to_csv('dat/RAW_EFFECTS.csv')\n",
    "predictions.to_csv('dat/RAW_PREDICTIONS.csv')"
   ]
  }
 ],
 "metadata": {
  "kernelspec": {
   "display_name": "Python 3",
   "language": "python",
   "name": "python3"
  },
  "language_info": {
   "codemirror_mode": {
    "name": "ipython",
    "version": 3
   },
   "file_extension": ".py",
   "mimetype": "text/x-python",
   "name": "python",
   "nbconvert_exporter": "python",
   "pygments_lexer": "ipython3",
   "version": "3.12.7"
  }
 },
 "nbformat": 4,
 "nbformat_minor": 2
}
